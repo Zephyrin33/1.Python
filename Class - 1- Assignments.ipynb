{
 "cells": [
  {
   "cell_type": "code",
   "execution_count": 1,
   "metadata": {},
   "outputs": [],
   "source": [
    "class SubfieldsInAI():\n",
    "    def Subfields():\n",
    "        print(\"Sub-fields in AI are:\")\n",
    "        print(\"Machine Learning\")\n",
    "        print(\"Neural Networks\")\n",
    "        print(\"Vision\")\n",
    "        print(\"Robotics\")\n",
    "        print(\"Speech Processing\")\n",
    "        print(\"Natural Language Processing\")"
   ]
  },
  {
   "cell_type": "code",
   "execution_count": 2,
   "metadata": {},
   "outputs": [
    {
     "name": "stdout",
     "output_type": "stream",
     "text": [
      "Sub-fields in AI are:\n",
      "Machine Learning\n",
      "Neural Networks\n",
      "Vision\n",
      "Robotics\n",
      "Speech Processing\n",
      "Natural Language Processing\n"
     ]
    }
   ],
   "source": [
    "SubfieldsInAI.Subfields()"
   ]
  },
  {
   "cell_type": "code",
   "execution_count": 6,
   "metadata": {},
   "outputs": [],
   "source": [
    "class OddEven():\n",
    "    def OddEven():\n",
    "        num=int(input(\"Enter a number:\"))\n",
    "        if (num % 2 == 0):\n",
    "            print( num, \"is Even number\")\n",
    "        else:\n",
    "             print(\"The number is odd\")"
   ]
  },
  {
   "cell_type": "code",
   "execution_count": 7,
   "metadata": {},
   "outputs": [
    {
     "name": "stdout",
     "output_type": "stream",
     "text": [
      "Enter a number:52452\n",
      "52452 is Even number\n"
     ]
    }
   ],
   "source": [
    "OddEven.OddEven()"
   ]
  },
  {
   "cell_type": "code",
   "execution_count": 8,
   "metadata": {},
   "outputs": [],
   "source": [
    "class ElegiblityForMarriage():\n",
    "    def MarriageEligable():\n",
    "        gender=input(\"Enter the Gender\")\n",
    "        Age=int(input(\"Enter the age\"))\n",
    "        if (gender == \"Male\" and Age >=21):\n",
    "            print(\"Eligable\")\n",
    "        elif (gender == \"Female\" and Age >=18):\n",
    "            print(\"Eligable\")\n",
    "        else:\n",
    "            print(\"Not Eligable\")\n",
    "    "
   ]
  },
  {
   "cell_type": "code",
   "execution_count": 9,
   "metadata": {},
   "outputs": [
    {
     "name": "stdout",
     "output_type": "stream",
     "text": [
      "Enter the GenderMale\n",
      "Enter the age20\n",
      "Not Eligable\n"
     ]
    }
   ],
   "source": [
    "ElegiblityForMarriage.MarriageEligable()"
   ]
  },
  {
   "cell_type": "code",
   "execution_count": 10,
   "metadata": {},
   "outputs": [],
   "source": [
    "class FindPercent():\n",
    "    def PercentageofMarks():\n",
    "         S1=int(input(\"subject1=\"))\n",
    "         S2=int(input(\"subject2=\"))\n",
    "         S3=int(input(\"subject3=\"))\n",
    "         S4=int(input(\"subject4=\"))\n",
    "         S5=int(input(\"subject5=\"))\n",
    "         Total=S1+S2+S3+S4+S5\n",
    "         print(\"Total :\",Total)\n",
    "         Percentage=Total/5\n",
    "         print(\"Percentage:\",Percentage)"
   ]
  },
  {
   "cell_type": "code",
   "execution_count": 11,
   "metadata": {},
   "outputs": [
    {
     "name": "stdout",
     "output_type": "stream",
     "text": [
      "subject1=98\n",
      "subject2=87\n",
      "subject3=95\n",
      "subject4=95\n",
      "subject5=93\n",
      "Total : 468\n",
      "Percentage: 93.6\n"
     ]
    }
   ],
   "source": [
    "FindPercent.PercentageofMarks()"
   ]
  },
  {
   "cell_type": "code",
   "execution_count": 12,
   "metadata": {},
   "outputs": [],
   "source": [
    "class triangle():\n",
    "    def Triangle():\n",
    "        h=int(input('Height:'))\n",
    "        b=int(input('Breadth:'))\n",
    "        area=(h*b)/2\n",
    "        print('Area of Triangle:',area)\n",
    "        h1=int(input('Height1:'))\n",
    "        h2=int(input('Height2:'))\n",
    "        b1=int(input('Breadth:'))\n",
    "        perimeter=h1+h2+b1\n",
    "        print('Perimeter of Traingle:',perimeter)"
   ]
  },
  {
   "cell_type": "code",
   "execution_count": 13,
   "metadata": {},
   "outputs": [
    {
     "name": "stdout",
     "output_type": "stream",
     "text": [
      "Height:32\n",
      "Breadth:34\n",
      "Area of Triangle: 544.0\n",
      "Height1:2\n",
      "Height2:4\n",
      "Breadth:4\n",
      "Perimeter of Traingle: 10\n"
     ]
    }
   ],
   "source": [
    "triangle.Triangle()"
   ]
  },
  {
   "cell_type": "code",
   "execution_count": null,
   "metadata": {},
   "outputs": [],
   "source": []
  }
 ],
 "metadata": {
  "kernelspec": {
   "display_name": "Python 3",
   "language": "python",
   "name": "python3"
  },
  "language_info": {
   "codemirror_mode": {
    "name": "ipython",
    "version": 3
   },
   "file_extension": ".py",
   "mimetype": "text/x-python",
   "name": "python",
   "nbconvert_exporter": "python",
   "pygments_lexer": "ipython3",
   "version": "3.7.4"
  }
 },
 "nbformat": 4,
 "nbformat_minor": 2
}
