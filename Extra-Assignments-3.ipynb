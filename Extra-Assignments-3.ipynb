{
 "cells": [
  {
   "cell_type": "code",
   "execution_count": 2,
   "metadata": {},
   "outputs": [
    {
     "name": "stdout",
     "output_type": "stream",
     "text": [
      "Value:10\n",
      "correct\n"
     ]
    }
   ],
   "source": [
    "i=int(input('Value:'))\n",
    "if (i == 10):\n",
    "    print('correct')"
   ]
  },
  {
   "cell_type": "code",
   "execution_count": 5,
   "metadata": {},
   "outputs": [
    {
     "name": "stdout",
     "output_type": "stream",
     "text": [
      "Enter the Password:HOPE@123\n",
      "your password is correct \n"
     ]
    }
   ],
   "source": [
    "a=input(\"Enter the Password:\")\n",
    "if (a == \"HOPE@123\"):\n",
    "    print(\"your password is correct \")\n",
    "else:\n",
    "    print(\"your password is incorrect \")\n"
   ]
  },
  {
   "cell_type": "code",
   "execution_count": 10,
   "metadata": {},
   "outputs": [
    {
     "name": "stdout",
     "output_type": "stream",
     "text": [
      "Age=20\n",
      "Adult\n"
     ]
    }
   ],
   "source": [
    "age=int(input('Age='))\n",
    "if (age <= 18):\n",
    "    print(\"Children\")\n",
    "elif (age <= 35):\n",
    "    print(\"Adult\")\n",
    "elif (age <= 59):\n",
    "    print(\"Citizen\")\n",
    "else:\n",
    "    print(\"Senior Citizen\")\n"
   ]
  },
  {
   "cell_type": "code",
   "execution_count": 14,
   "metadata": {},
   "outputs": [
    {
     "name": "stdout",
     "output_type": "stream",
     "text": [
      "Enter any no:1\n",
      "No is Positive\n"
     ]
    }
   ],
   "source": [
    "a=int(input(\"Enter any no:\"))\n",
    "if a > 0:\n",
    "    print(\"No is Positive\")\n",
    "else:\n",
    "    print(\"No is Negative\")"
   ]
  },
  {
   "cell_type": "code",
   "execution_count": 17,
   "metadata": {},
   "outputs": [
    {
     "name": "stdout",
     "output_type": "stream",
     "text": [
      "Enter a number to check:22\n",
      "No is not divisible by 5\n"
     ]
    }
   ],
   "source": [
    "a=int(input(\"Enter a number to check:\"))\n",
    "if a % 5 == 0:\n",
    "    print(\"No is  divisible by 5\")\n",
    "else:\n",
    "      print(\"No is not divisible by 5\")"
   ]
  },
  {
   "cell_type": "code",
   "execution_count": null,
   "metadata": {},
   "outputs": [],
   "source": []
  }
 ],
 "metadata": {
  "kernelspec": {
   "display_name": "Python 3",
   "language": "python",
   "name": "python3"
  },
  "language_info": {
   "codemirror_mode": {
    "name": "ipython",
    "version": 3
   },
   "file_extension": ".py",
   "mimetype": "text/x-python",
   "name": "python",
   "nbconvert_exporter": "python",
   "pygments_lexer": "ipython3",
   "version": "3.7.4"
  }
 },
 "nbformat": 4,
 "nbformat_minor": 2
}
