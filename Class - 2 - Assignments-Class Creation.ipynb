{
 "cells": [
  {
   "cell_type": "code",
   "execution_count": null,
   "metadata": {},
   "outputs": [],
   "source": [
    "class Assignment2():\n",
    "    def Subfields():\n",
    "        print(\"Sub-fields in AI are:\")\n",
    "        print(\"Machine Learning\")\n",
    "        print(\"Neural Networks\")\n",
    "        print(\"Vision\")\n",
    "        print(\"Robotics\")\n",
    "        print(\"Speech Processing\")\n",
    "        print(\"Natural Language Processing\")\n",
    "    def OddEven():\n",
    "        num=int(input(\"Enter a number:\"))\n",
    "        if (num % 2 == 0):\n",
    "            print( num, \"is Even number\")\n",
    "        else:\n",
    "             print(\"The number is odd\")\n",
    "    def MarriageEligable():\n",
    "        gender=input(\"Enter the Gender\")\n",
    "        Age=int(input(\"Enter the age\"))\n",
    "        if (gender == \"Male\" and Age >=21):\n",
    "            print(\"Eligable\")\n",
    "        elif (gender == \"Female\" and Age >=18):\n",
    "            print(\"Eligable\")\n",
    "        else:\n",
    "            print(\"Not Eligable\")\n",
    "    def PercentageofMarks():\n",
    "         S1=int(input(\"subject1=\"))\n",
    "         S2=int(input(\"subject2=\"))\n",
    "         S3=int(input(\"subject3=\"))\n",
    "         S4=int(input(\"subject4=\"))\n",
    "         S5=int(input(\"subject5=\"))\n",
    "         Total=S1+S2+S3+S4+S5\n",
    "         print(\"Total :\",Total)\n",
    "         Percentage=Total/5\n",
    "         print(\"Percentage:\",Percentage)\n",
    "    def Triangle():\n",
    "        h=int(input('Height:'))\n",
    "        b=int(input('Breadth:'))\n",
    "        area=(h*b)/2\n",
    "        print('Area of Triangle:',area)\n",
    "        h1=int(input('Height1:'))\n",
    "        h2=int(input('Height2:'))\n",
    "        b1=int(input('Breadth:'))\n",
    "        perimeter=h1+h2+b1\n",
    "        print('Perimeter of Traingle:',perimeter)"
   ]
  }
 ],
 "metadata": {
  "kernelspec": {
   "display_name": "Python 3",
   "language": "python",
   "name": "python3"
  },
  "language_info": {
   "codemirror_mode": {
    "name": "ipython",
    "version": 3
   },
   "file_extension": ".py",
   "mimetype": "text/x-python",
   "name": "python",
   "nbconvert_exporter": "python",
   "pygments_lexer": "ipython3",
   "version": "3.7.4"
  }
 },
 "nbformat": 4,
 "nbformat_minor": 2
}
